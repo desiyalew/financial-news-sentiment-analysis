{
 "cells": [
  {
   "cell_type": "code",
   "execution_count": 1,
   "id": "ae07bd1e",
   "metadata": {},
   "outputs": [],
   "source": [
    "import pandas as pd\n",
    "import matplotlib.pyplot as plt\n",
    "import seaborn as sns\n",
    "from textblob import TextBlob\n",
    "from scipy.stats import pearsonr"
   ]
  },
  {
   "cell_type": "code",
   "execution_count": null,
   "id": "fbcf80cd",
   "metadata": {},
   "outputs": [],
   "source": []
  },
  {
   "cell_type": "code",
   "execution_count": 2,
   "id": "a0f4133e",
   "metadata": {},
   "outputs": [],
   "source": [
    "\n",
    "import os\n",
    "import sys\n",
    "# Get the absolute path to the src directory\n",
    "src_path = os.path.abspath(os.path.join(os.getcwd(), '..', 'src'))\n",
    "parent_dir = os.path.dirname(src_path)\n",
    "if parent_dir not in sys.path:\n",
    "    sys.path.append(parent_dir)"
   ]
  },
  {
   "cell_type": "code",
   "execution_count": 3,
   "id": "09863bfd",
   "metadata": {},
   "outputs": [],
   "source": [
    "def load_news_data(file_path: str) -> pd.DataFrame:\n",
    "    df = pd.read_csv(file_path)\n",
    "    df = df[['date', 'stock', 'headline']].copy()\n",
    "    df['date'] = pd.to_datetime(df['date'], errors='coerce').dt.tz_localize(None)\n",
    "    df['date'] = df['date'].dt.normalize()\n",
    "    df['sentiment'] = df['headline'].apply(lambda x: TextBlob(str(x)).sentiment.polarity)\n",
    "    return df"
   ]
  },
  {
   "cell_type": "code",
   "execution_count": 4,
   "id": "e17aca61",
   "metadata": {},
   "outputs": [],
   "source": [
    "def get_daily_sentiment(news_df: pd.DataFrame, ticker: str) -> pd.DataFrame:\n",
    "    df = news_df[news_df['stock'] == ticker]\n",
    "    daily_sentiment = df.groupby('date')['sentiment'].mean().reset_index()\n",
    "    daily_sentiment.rename(columns={'date': 'Date', 'sentiment': 'Sentiment'}, inplace=True)\n",
    "    return daily_sentiment"
   ]
  },
  {
   "cell_type": "code",
   "execution_count": 5,
   "id": "d021884c",
   "metadata": {},
   "outputs": [],
   "source": [
    "def load_stock_data(filepath: str) -> pd.DataFrame:\n",
    "    df = pd.read_csv(filepath)\n",
    "    df['Date'] = pd.to_datetime(df['Date'], errors='coerce').dt.tz_localize(None)\n",
    "    df.sort_values('Date', inplace=True)\n",
    "    return df"
   ]
  },
  {
   "cell_type": "code",
   "execution_count": 6,
   "id": "caa74b22",
   "metadata": {},
   "outputs": [],
   "source": [
    "def compute_daily_returns(df: pd.DataFrame) -> pd.DataFrame:\n",
    "    df['Return'] = df['Close'].pct_change()\n",
    "    return df[['Date', 'Return']]\n"
   ]
  },
  {
   "cell_type": "code",
   "execution_count": 7,
   "id": "8575d28a",
   "metadata": {},
   "outputs": [],
   "source": [
    "def merge_sentiment_and_returns(sentiment_df: pd.DataFrame, returns_df: pd.DataFrame) -> pd.DataFrame:\n",
    "    merged = pd.merge(sentiment_df, returns_df, on='Date', how='inner')\n",
    "    return merged"
   ]
  },
  {
   "cell_type": "code",
   "execution_count": 8,
   "id": "2e6c8968",
   "metadata": {},
   "outputs": [],
   "source": [
    "def compute_correlation(merged_df: pd.DataFrame) -> float:\n",
    "    if len(merged_df) < 2:\n",
    "        return None\n",
    "    corr, _ = pearsonr(merged_df['Sentiment'], merged_df['Return'])\n",
    "    return corr"
   ]
  },
  {
   "cell_type": "code",
   "execution_count": 9,
   "id": "ce56adc1",
   "metadata": {},
   "outputs": [],
   "source": [
    "def plot_sentiment_vs_return(df: pd.DataFrame, ticker: str):\n",
    "    plt.figure(figsize=(8, 6))\n",
    "    sns.regplot(x='Sentiment', y='Return', data=df, scatter_kws={'alpha':0.5})\n",
    "    plt.title(f\"Sentiment vs Return for {ticker}\")\n",
    "    plt.xlabel(\"Daily Sentiment Score\")\n",
    "    plt.ylabel(\"Daily Return (%)\")\n",
    "    plt.grid(True)\n",
    "    plt.tight_layout()\n",
    "    plt.show()"
   ]
  },
  {
   "cell_type": "code",
   "execution_count": 10,
   "id": "5cfded2a",
   "metadata": {},
   "outputs": [],
   "source": [
    "def analyze_news_stock_correlation(news_path: str, tickers: list, stock_folder: str):\n",
    "    news_df = load_news_data(news_path)\n",
    "    results = {}\n",
    "\n",
    "    for ticker in tickers:\n",
    "        print(f\"\\n📊 Processing: {ticker}\")\n",
    "        stock_path = f'{stock_folder}/{ticker}_historical_data.csv'\n",
    "        stock_df = load_stock_data(stock_path)\n",
    "        stock_returns = compute_daily_returns(stock_df)\n",
    "        sentiment_df = get_daily_sentiment(news_df, ticker)\n",
    "        merged_df = merge_sentiment_and_returns(sentiment_df, stock_returns)\n",
    "        correlation = compute_correlation(merged_df)\n",
    "        \n",
    "        results[ticker] = {\n",
    "            'Correlation': correlation,\n",
    "            'Merged Data': merged_df\n",
    "        }\n",
    "\n",
    "        if correlation is not None:\n",
    "            print(f\"✅ Correlation for {ticker}: {correlation:.4f}\")\n",
    "            plot_sentiment_vs_return(merged_df, ticker)\n",
    "        else:\n",
    "            print(f\"⚠️ Insufficient data for {ticker} correlation plot\")\n",
    "\n",
    "    return results"
   ]
  },
  {
   "cell_type": "code",
   "execution_count": null,
   "id": "e1d17a8c",
   "metadata": {},
   "outputs": [],
   "source": [
    "news_path = '../data/raw_analyst_ratings.csv/raw_analyst_ratings.csv'\n",
    "tickers = ['AAPL', 'AMZN', 'GOOG', 'META', 'MSFT', 'NVDA', 'TSLA']\n",
    "stock_folder = '../data/yfinance_data'\n",
    "results = analyze_news_stock_correlation(news_path, tickers, stock_folder)"
   ]
  },
  {
   "cell_type": "code",
   "execution_count": null,
   "id": "1c3f18f1",
   "metadata": {},
   "outputs": [
    {
     "data": {
      "text/html": [
       "<div>\n",
       "<style scoped>\n",
       "    .dataframe tbody tr th:only-of-type {\n",
       "        vertical-align: middle;\n",
       "    }\n",
       "\n",
       "    .dataframe tbody tr th {\n",
       "        vertical-align: top;\n",
       "    }\n",
       "\n",
       "    .dataframe thead th {\n",
       "        text-align: right;\n",
       "    }\n",
       "</style>\n",
       "<table border=\"1\" class=\"dataframe\">\n",
       "  <thead>\n",
       "    <tr style=\"text-align: right;\">\n",
       "      <th></th>\n",
       "      <th>date</th>\n",
       "      <th>stock</th>\n",
       "      <th>headline</th>\n",
       "      <th>sentiment</th>\n",
       "    </tr>\n",
       "  </thead>\n",
       "  <tbody>\n",
       "    <tr>\n",
       "      <th>0</th>\n",
       "      <td>2020-06-05</td>\n",
       "      <td>A</td>\n",
       "      <td>Stocks That Hit 52-Week Highs On Friday</td>\n",
       "      <td>0.0</td>\n",
       "    </tr>\n",
       "    <tr>\n",
       "      <th>1</th>\n",
       "      <td>2020-06-03</td>\n",
       "      <td>A</td>\n",
       "      <td>Stocks That Hit 52-Week Highs On Wednesday</td>\n",
       "      <td>0.0</td>\n",
       "    </tr>\n",
       "    <tr>\n",
       "      <th>2</th>\n",
       "      <td>2020-05-26</td>\n",
       "      <td>A</td>\n",
       "      <td>71 Biggest Movers From Friday</td>\n",
       "      <td>0.0</td>\n",
       "    </tr>\n",
       "    <tr>\n",
       "      <th>3</th>\n",
       "      <td>2020-05-22</td>\n",
       "      <td>A</td>\n",
       "      <td>46 Stocks Moving In Friday's Mid-Day Session</td>\n",
       "      <td>0.0</td>\n",
       "    </tr>\n",
       "    <tr>\n",
       "      <th>4</th>\n",
       "      <td>2020-05-22</td>\n",
       "      <td>A</td>\n",
       "      <td>B of A Securities Maintains Neutral on Agilent...</td>\n",
       "      <td>0.0</td>\n",
       "    </tr>\n",
       "  </tbody>\n",
       "</table>\n",
       "</div>"
      ],
      "text/plain": [
       "        date stock                                           headline  \\\n",
       "0 2020-06-05     A            Stocks That Hit 52-Week Highs On Friday   \n",
       "1 2020-06-03     A         Stocks That Hit 52-Week Highs On Wednesday   \n",
       "2 2020-05-26     A                      71 Biggest Movers From Friday   \n",
       "3 2020-05-22     A       46 Stocks Moving In Friday's Mid-Day Session   \n",
       "4 2020-05-22     A  B of A Securities Maintains Neutral on Agilent...   \n",
       "\n",
       "   sentiment  \n",
       "0        0.0  \n",
       "1        0.0  \n",
       "2        0.0  \n",
       "3        0.0  \n",
       "4        0.0  "
      ]
     },
     "execution_count": 12,
     "metadata": {},
     "output_type": "execute_result"
    }
   ],
   "source": [
    "DataFrame = load_news_data(news_path)\n",
    "DataFrame.head()"
   ]
  }
 ],
 "metadata": {
  "kernelspec": {
   "display_name": "Python 3",
   "language": "python",
   "name": "python3"
  },
  "language_info": {
   "codemirror_mode": {
    "name": "ipython",
    "version": 3
   },
   "file_extension": ".py",
   "mimetype": "text/x-python",
   "name": "python",
   "nbconvert_exporter": "python",
   "pygments_lexer": "ipython3",
   "version": "3.13.3"
  }
 },
 "nbformat": 4,
 "nbformat_minor": 5
}
