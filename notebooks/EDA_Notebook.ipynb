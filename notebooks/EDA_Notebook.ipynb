{
 "cells": [
  {
   "cell_type": "code",
   "execution_count": null,
   "id": "5974688e",
   "metadata": {},
   "outputs": [],
   "source": [
    "import pandas as pd\n",
    "from eda_module import run_full_eda"
   ]
  },
  {
   "cell_type": "code",
   "execution_count": null,
   "id": "88a18be4",
   "metadata": {},
   "outputs": [],
   "source": [
    "# Load CSV\n",
    "df = pd.read_csv('/content/KAIM/raw_analyst_ratings.csv')"
   ]
  },
  {
   "cell_type": "code",
   "execution_count": null,
   "id": "5f2a97a9",
   "metadata": {},
   "outputs": [],
   "source": [
    "# Run EDA\n",
    "run_full_eda(df)"
   ]
  }
 ],
 "metadata": {},
 "nbformat": 4,
 "nbformat_minor": 5
}
